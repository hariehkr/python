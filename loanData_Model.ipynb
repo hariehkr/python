{
 "cells": [
  {
   "cell_type": "code",
   "execution_count": 1,
   "metadata": {},
   "outputs": [],
   "source": [
    "import pandas as pd\n",
    "from icecream import ic\n",
    "import os\n",
    "import warnings\n",
    "warnings.filterwarnings('ignore')"
    "outputHtmlFile = (inputDataObject.outputFolder + u'//' + 'pivotTable_Output.html')"
    "pivot_ui(dfOriginalWithOpt, outfile_path = outputHtmlFile)"            
    "print('Pivot Table created,  \n \n %s \n open file in web-browser'% outputHtmlFile)"
    "from pivottablejs import pivot_ui"


    
   ]
  },
  {
   "cell_type": "code",
   "execution_count": 51,
   "metadata": {},
   "outputs": [
    {
     "data": {
      "text/plain": [
       "Index(['WasTheLoanApproved', 'CheckingAccountBalance', 'DebtsPaid',\n",
       "       'SavingsAccountBalance', 'LoanPayoffPeriodInMonths', 'LoanReason',\n",
       "       'InterestRate', 'Co-Applicant', 'RentOrOwnHome',\n",
       "       'TypeOfCurrentEmployment'],\n",
       "      dtype='object')"
      ]
     },
     "execution_count": 51,
     "metadata": {},
     "output_type": "execute_result"
    }
   ],
   "source": [
    "df.select_dtypes(exclude=['int64']).columns"
   ]
  },
  {
   "cell_type": "code",
   "execution_count": 46,
   "metadata": {},
   "outputs": [
    {
     "data": {
      "text/plain": [
       "Index(['WasTheLoanApproved', 'CheckingAccountBalance', 'DebtsPaid',\n",
       "       'SavingsAccountBalance', 'LoanPayoffPeriodInMonths', 'LoanReason',\n",
       "       'InterestRate', 'Co-Applicant', 'RentOrOwnHome',\n",
       "       'TypeOfCurrentEmployment'],\n",
       "      dtype='object')"
      ]
     },
     "execution_count": 46,
     "metadata": {},
     "output_type": "execute_result"
    }
   ],
   "source": [
    "catColumns=(df.select_dtypes(exclude=['int64']).columns)\n",
    "catColumns"
   ]
  },
  {
   "cell_type": "code",
   "execution_count": 50,
   "metadata": {},
   "outputs": [
    {
     "name": "stdout",
     "output_type": "stream",
     "text": [
      "WasTheLoanApproved :\n",
      " value counts\n",
      " Y    347\n",
      "N    167\n",
      "1      1\n",
      "Name: WasTheLoanApproved, dtype: int64\n",
      "CheckingAccountBalance :\n",
      " value counts\n",
      " none        188\n",
      "debt        149\n",
      "some        144\n",
      "high         34\n",
      "Name: CheckingAccountBalance, dtype: int64\n",
      "DebtsPaid :\n",
      " value counts\n",
      " paid        319\n",
      "delayed     196\n",
      "Name: DebtsPaid, dtype: int64\n",
      "SavingsAccountBalance :\n",
      " value counts\n",
      " some        306\n",
      "none        101\n",
      "medium       53\n",
      "high         33\n",
      "v.high       22\n",
      "Name: SavingsAccountBalance, dtype: int64\n",
      "LoanPayoffPeriodInMonths :\n",
      " value counts\n",
      " 12      91\n",
      "24      90\n",
      "18      53\n",
      "36      42\n",
      "6       37\n",
      "48      30\n",
      "15      29\n",
      "9       27\n",
      "30      21\n",
      "21      16\n",
      "10      15\n",
      "60       9\n",
      "42       7\n",
      "27       6\n",
      "8        5\n",
      "20       5\n",
      "11       4\n",
      "39       4\n",
      "45       4\n",
      "14       3\n",
      "28       2\n",
      "33       2\n",
      "none     2\n",
      "7        2\n",
      "busi     1\n",
      "40       1\n",
      "4        1\n",
      "54       1\n",
      "13       1\n",
      "16       1\n",
      "22       1\n",
      "26       1\n",
      "5        1\n",
      "Name: LoanPayoffPeriodInMonths, dtype: int64\n",
      "LoanReason :\n",
      " value counts\n",
      " goods       230\n",
      "auto        175\n",
      "busin        57\n",
      "school       34\n",
      "repairs       9\n",
      "other         7\n",
      "  goods       1\n",
      "   auto       1\n",
      "n  busin      1\n",
      "Name: LoanReason, dtype: int64\n",
      "InterestRate :\n",
      " value counts\n",
      " 4       252\n",
      "2       112\n",
      "3        75\n",
      "1        72\n",
      "0         2\n",
      "   n      1\n",
      "one       1\n",
      "Name: InterestRate, dtype: int64\n",
      "Co-Applicant :\n",
      " value counts\n",
      " none       460\n",
      "guarant     33\n",
      "co-app      22\n",
      "Name: Co-Applicant, dtype: int64\n",
      "RentOrOwnHome :\n",
      " value counts\n",
      " owned       366\n",
      "rent         89\n",
      "free         60\n",
      "Name: RentOrOwnHome, dtype: int64\n",
      "TypeOfCurrentEmployment :\n",
      " value counts\n",
      " skilled     334\n",
      "unskill      90\n",
      "self         80\n",
      "none         11\n",
      "Name: TypeOfCurrentEmployment, dtype: int64\n"
     ]
    }
   ],
   "source": [
    "fn_value_counts_Categorical(df)"
   ]
  },
  {
   "cell_type": "code",
   "execution_count": 48,
   "metadata": {},
   "outputs": [],
   "source": [
    "def fn_value_counts(df, number):\n",
    "    columns=df.columns.tolist()\n",
    "    for col in columns:\n",
    "        if df[col].nunique()<number:\n",
    "            print(col,':\\n value counts\\n', df[col].value_counts())\n",
    "        else:\n",
    "            print(col,':value counts >%i\\n' %number)\n",
    "def fn_value_counts_Categorical(df):\n",
    "    catColumns=(df.select_dtypes(include=['category', 'object'],exclude=['int64']).columns)\n",
    "    df1=pd.DataFrame()\n",
    "    df1[catColumns]= df[catColumns]\n",
    "    columns=df1.columns.tolist()\n",
    "    for col in columns:\n",
    "        print(col,':\\n value counts\\n', df1[col].value_counts())\n",
    "\n",
    "\n",
    "def fn_dataframe_info(df):\n",
    "    noCols= df.shape[1]\n",
    "    noRows= df.shape[0]\n",
    "    print('There are columns(%i) and rows (%i) \\n columns are as follows: %s' %(noCols,noRows, df.columns))\n",
    "    print('Total number of null values in the data:%i and it percentage %f' %((df.isnull().sum().sum()),(df.isnull().sum().sum()*100)/(noCols*noRows)))\n",
    "    #fn_value_counts(df,20)\n",
    "    "
   ]
  },
  {
   "cell_type": "code",
   "execution_count": 3,
   "metadata": {},
   "outputs": [
    {
     "data": {
      "text/plain": [
       "['.DS_Store',\n",
       " 'app.tsv',\n",
       " 'app2.tsv',\n",
       " 'borrower.tsv',\n",
       " 'credit.tsv',\n",
       " 'Feature_of_importance.png',\n",
       " 'Readme.txt',\n",
       " 'result.tsv']"
      ]
     },
     "execution_count": 3,
     "metadata": {},
     "output_type": "execute_result"
    }
   ],
   "source": [
    "rawDatapath=\"D:/Jupytercode/data/credit_data/rawData/\"\n",
    "os.listdir(rawDatapath)"
   ]
  },
  {
   "cell_type": "code",
   "execution_count": 4,
   "metadata": {},
   "outputs": [
    {
     "name": "stdout",
     "output_type": "stream",
     "text": [
      "['Problem\\n', '----------\\n', '\\n', 'Your task is to gain an understanding of a small loan-application dataset so that we can double-check the work of agents making quick-fire loan determinations by text.\\n', '\\n', '\\n', 'Goals\\n', '-----\\n', '\\n', '1. Data Understanding\\n', '\\n', '    Â·Â\\xa0Convert the data-set into whatever format makes the most sense to you.\\n', '    Â·Â\\xa0Please keep track of any statistics or findings that you think are relevant to solving the problem.\\n', '    Â·Â\\xa0Please provide a thorough analysis of the relationships between the target and the various features and also the relationships between the important   features.\\n', '\\n', '2. Prediction / Classification\\n', '\\n', '    Â·Â\\xa0Based on your understanding, build a quick classifier to determine what the result should be for a new customer\\n', '    Â·Â\\xa0Explain your results and the reason(s) you believe your model is valid\\n', '\\n', 'Please provide your source code and a document (word, powerpoint, pdf or any suitable format) outlining your findings and explanations, along with the data if you significantly transformed it.\\n', '\\n', '\\n', 'Data\\n', '----\\n', '\\n', 'credit: CustomerID CheckingAccountBalance DebtsPaid SavingsAccountBalance CurrentOpenLoanApplications\\n', 'app: CustomerID LoanPayoffPeriodInMonths LoanReason RequestedAmount InterestRate Co-Applicant\\n', 'borrower: CustomerID YearsAtCurrentEmployer YearsInCurrentResidence Age RentOrOwnHome TypeOfCurrentEmployment NumberOfDependantsIncludingSelf\\n', 'result: CustomerID WasTheLoanApproved\\n']\n"
     ]
    }
   ],
   "source": [
    "dftext=open(rawDatapath+'Readme.txt','r')\n",
    "print(dftext.readlines())"
   ]
  },
  {
   "cell_type": "code",
   "execution_count": 49,
   "metadata": {},
   "outputs": [
    {
     "name": "stderr",
     "output_type": "stream",
     "text": [
      "ic| creditDF.shape: (749, 5)\n",
      "ic| appDf.shape: (748, 6)\n",
      "ic| borrowerDF.shape: (749, 7)\n",
      "ic| resultDF.shape: (750, 2)\n",
      "ic| df.shape: (515, 17)\n"
     ]
    },
    {
     "data": {
      "text/html": [
       "<div>\n",
       "<style scoped>\n",
       "    .dataframe tbody tr th:only-of-type {\n",
       "        vertical-align: middle;\n",
       "    }\n",
       "\n",
       "    .dataframe tbody tr th {\n",
       "        vertical-align: top;\n",
       "    }\n",
       "\n",
       "    .dataframe thead th {\n",
       "        text-align: right;\n",
       "    }\n",
       "</style>\n",
       "<table border=\"1\" class=\"dataframe\">\n",
       "  <thead>\n",
       "    <tr style=\"text-align: right;\">\n",
       "      <th></th>\n",
       "      <th>CustomerID</th>\n",
       "      <th>WasTheLoanApproved</th>\n",
       "      <th>CheckingAccountBalance</th>\n",
       "      <th>DebtsPaid</th>\n",
       "      <th>SavingsAccountBalance</th>\n",
       "      <th>CurrentOpenLoanApplications</th>\n",
       "      <th>LoanPayoffPeriodInMonths</th>\n",
       "      <th>LoanReason</th>\n",
       "      <th>RequestedAmount</th>\n",
       "      <th>InterestRate</th>\n",
       "      <th>Co-Applicant</th>\n",
       "      <th>YearsAtCurrentEmployer</th>\n",
       "      <th>YearsInCurrentResidence</th>\n",
       "      <th>Age</th>\n",
       "      <th>RentOrOwnHome</th>\n",
       "      <th>TypeOfCurrentEmployment</th>\n",
       "      <th>NumberOfDependantsIncludingSelf</th>\n",
       "    </tr>\n",
       "  </thead>\n",
       "  <tbody>\n",
       "    <tr>\n",
       "      <th>0</th>\n",
       "      <td>2</td>\n",
       "      <td>Y</td>\n",
       "      <td>none</td>\n",
       "      <td>delayed</td>\n",
       "      <td>none</td>\n",
       "      <td>2</td>\n",
       "      <td>9</td>\n",
       "      <td>goods</td>\n",
       "      <td>3074</td>\n",
       "      <td>1</td>\n",
       "      <td>none</td>\n",
       "      <td>4</td>\n",
       "      <td>2</td>\n",
       "      <td>33</td>\n",
       "      <td>owned</td>\n",
       "      <td>skilled</td>\n",
       "      <td>2</td>\n",
       "    </tr>\n",
       "    <tr>\n",
       "      <th>1</th>\n",
       "      <td>3</td>\n",
       "      <td>N</td>\n",
       "      <td>high</td>\n",
       "      <td>delayed</td>\n",
       "      <td>high</td>\n",
       "      <td>3</td>\n",
       "      <td>12</td>\n",
       "      <td>auto</td>\n",
       "      <td>939</td>\n",
       "      <td>4</td>\n",
       "      <td>none</td>\n",
       "      <td>7</td>\n",
       "      <td>2</td>\n",
       "      <td>28</td>\n",
       "      <td>owned</td>\n",
       "      <td>skilled</td>\n",
       "      <td>1</td>\n",
       "    </tr>\n",
       "  </tbody>\n",
       "</table>\n",
       "</div>"
      ],
      "text/plain": [
       "   CustomerID WasTheLoanApproved CheckingAccountBalance DebtsPaid  \\\n",
       "0           2                  Y               none      delayed    \n",
       "1           3                  N               high      delayed    \n",
       "\n",
       "  SavingsAccountBalance  CurrentOpenLoanApplications LoanPayoffPeriodInMonths  \\\n",
       "0              none                                2                        9   \n",
       "1              high                                3                       12   \n",
       "\n",
       "  LoanReason  RequestedAmount InterestRate Co-Applicant  \\\n",
       "0   goods                3074            1         none   \n",
       "1   auto                  939            4         none   \n",
       "\n",
       "   YearsAtCurrentEmployer  YearsInCurrentResidence  Age RentOrOwnHome  \\\n",
       "0                       4                        2   33      owned      \n",
       "1                       7                        2   28      owned      \n",
       "\n",
       "  TypeOfCurrentEmployment  NumberOfDependantsIncludingSelf  \n",
       "0                skilled                                 2  \n",
       "1                skilled                                 1  "
      ]
     },
     "execution_count": 49,
     "metadata": {},
     "output_type": "execute_result"
    }
   ],
   "source": [
    "creditCol='CustomerID CheckingAccountBalance DebtsPaid SavingsAccountBalance CurrentOpenLoanApplications'\n",
    "appCol='CustomerID LoanPayoffPeriodInMonths LoanReason RequestedAmount InterestRate Co-Applicant'\n",
    "borrowerCol='CustomerID YearsAtCurrentEmployer YearsInCurrentResidence Age RentOrOwnHome TypeOfCurrentEmployment NumberOfDependantsIncludingSelf'\n",
    "resultCol='CustomerID WasTheLoanApproved'\n",
    "\n",
    "creditDF=pd.read_csv(rawDatapath+\"credit.tsv\", header=None, delimiter='\\t', names=creditCol.split(' '))\n",
    "appDf=pd.read_csv(rawDatapath+\"app2.tsv\", header=None, delimiter='\\t', names=appCol.split(' '))\n",
    "borrowerDF=pd.read_csv(rawDatapath+\"borrower.tsv\", header=None, delimiter='\\t', names=borrowerCol.split(' '))\n",
    "resultDF=pd.read_csv(rawDatapath+\"result.tsv\", header=None, delimiter='\\t', names=resultCol.split(' '))\n",
    "ic(creditDF.shape)\n",
    "ic(appDf.shape)\n",
    "ic(borrowerDF.shape)\n",
    "ic(resultDF.shape)\n",
    "del creditCol,appCol,borrowerCol,resultCol\n",
    "\n",
    "df1=resultDF.merge(creditDF,on='CustomerID')\n",
    "df2=df1.merge(appDf,on='CustomerID')\n",
    "df=df2.merge(borrowerDF,on='CustomerID')\n",
    "df.set_index('CustomerID')\n",
    "del df1, df2,creditDF, appDf, borrowerDF, resultDF\n",
    "ic(df.shape)\n",
    "df.head(2)"
   ]
  },
  {
   "cell_type": "markdown",
   "metadata": {},
   "source": [
    "#### set index as **CustomerID**"
   ]
  },
  {
   "cell_type": "code",
   "execution_count": 18,
   "metadata": {},
   "outputs": [],
   "source": [
    "df.set_index('CustomerID', inplace=True)"
   ]
  },
  {
   "cell_type": "code",
   "execution_count": 21,
   "metadata": {},
   "outputs": [
    {
     "name": "stdout",
     "output_type": "stream",
     "text": [
      "WasTheLoanApproved :\n",
      " value counts\n",
      " Y    348\n",
      "N    167\n",
      "Name: WasTheLoanApproved, dtype: int64\n",
      "CheckingAccountBalance :\n",
      " value counts\n",
      " none        188\n",
      "debt        149\n",
      "some        144\n",
      "high         34\n",
      "Name: CheckingAccountBalance, dtype: int64\n",
      "DebtsPaid :\n",
      " value counts\n",
      " paid        319\n",
      "delayed     196\n",
      "Name: DebtsPaid, dtype: int64\n",
      "SavingsAccountBalance :\n",
      " value counts\n",
      " some        306\n",
      "none        101\n",
      "medium       53\n",
      "high         33\n",
      "v.high       22\n",
      "Name: SavingsAccountBalance, dtype: int64\n",
      "CurrentOpenLoanApplications :\n",
      " value counts\n",
      " 1    323\n",
      "2    175\n",
      "3     14\n",
      "4      3\n",
      "Name: CurrentOpenLoanApplications, dtype: int64\n",
      "LoanPayoffPeriodInMonths :value counts >20\n",
      "\n",
      "LoanReason :\n",
      " value counts\n",
      " goods       230\n",
      "auto        175\n",
      "busin        57\n",
      "school       34\n",
      "repairs       9\n",
      "other         7\n",
      "  goods       1\n",
      "   auto       1\n",
      "n  busin      1\n",
      "Name: LoanReason, dtype: int64\n",
      "RequestedAmount :value counts >20\n",
      "\n",
      "InterestRate :\n",
      " value counts\n",
      " 4       252\n",
      "2       112\n",
      "3        75\n",
      "1        72\n",
      "0         2\n",
      "   n      1\n",
      "one       1\n",
      "Name: InterestRate, dtype: int64\n",
      "Co-Applicant :\n",
      " value counts\n",
      " none       460\n",
      "guarant     33\n",
      "co-app      22\n",
      "Name: Co-Applicant, dtype: int64\n",
      "YearsAtCurrentEmployer :\n",
      " value counts\n",
      " 4     170\n",
      "10    126\n",
      "7      99\n",
      "1      94\n",
      "0      26\n",
      "Name: YearsAtCurrentEmployer, dtype: int64\n",
      "YearsInCurrentResidence :\n",
      " value counts\n",
      " 4    197\n",
      "2    159\n",
      "3     86\n",
      "1     73\n",
      "Name: YearsInCurrentResidence, dtype: int64\n",
      "Age :value counts >20\n",
      "\n",
      "RentOrOwnHome :\n",
      " value counts\n",
      " owned       366\n",
      "rent         89\n",
      "free         60\n",
      "Name: RentOrOwnHome, dtype: int64\n",
      "TypeOfCurrentEmployment :\n",
      " value counts\n",
      " skilled     334\n",
      "unskill      90\n",
      "self         80\n",
      "none         11\n",
      "Name: TypeOfCurrentEmployment, dtype: int64\n",
      "NumberOfDependantsIncludingSelf :\n",
      " value counts\n",
      " 1    437\n",
      "2     78\n",
      "Name: NumberOfDependantsIncludingSelf, dtype: int64\n"
     ]
    }
   ],
   "source": [
    "fn_value_counts(df,20)"
   ]
  },
  {
   "cell_type": "code",
   "execution_count": 20,
   "metadata": {},
   "outputs": [
    {
     "name": "stdout",
     "output_type": "stream",
     "text": [
      "There are columns(16) and rows (515) \n",
      " columns are as follows: Index(['WasTheLoanApproved', 'CheckingAccountBalance', 'DebtsPaid',\n",
      "       'SavingsAccountBalance', 'CurrentOpenLoanApplications',\n",
      "       'LoanPayoffPeriodInMonths', 'LoanReason', 'RequestedAmount',\n",
      "       'InterestRate', 'Co-Applicant', 'YearsAtCurrentEmployer',\n",
      "       'YearsInCurrentResidence', 'Age', 'RentOrOwnHome',\n",
      "       'TypeOfCurrentEmployment', 'NumberOfDependantsIncludingSelf'],\n",
      "      dtype='object')\n",
      "Total number of null values in the data:0 and it percentage 0.000000\n"
     ]
    }
   ],
   "source": [
    "fn_dataframe_info(df)"
   ]
  },
  {
   "cell_type": "markdown",
   "metadata": {},
   "source": [
    "## Check value counts in each varibale"
   ]
  },
  {
   "cell_type": "code",
   "execution_count": 14,
   "metadata": {},
   "outputs": [
    {
     "data": {
      "text/plain": [
       "Y    348\n",
       "N    167\n",
       "Name: WasTheLoanApproved, dtype: int64"
      ]
     },
     "execution_count": 14,
     "metadata": {},
     "output_type": "execute_result"
    }
   ],
   "source": [
    "df.WasTheLoanApproved.value_counts()"
   ]
  },
  {
   "cell_type": "markdown",
   "metadata": {},
   "source": [
    "there is only one **`1`** is there in 'WasTheLoanApproved' replace with **Y**"
   ]
  },
  {
   "cell_type": "code",
   "execution_count": 13,
   "metadata": {},
   "outputs": [],
   "source": [
    "df.WasTheLoanApproved.replace(to_replace=\"1\", value='Y', inplace=True)"
   ]
  },
  {
   "cell_type": "code",
   "execution_count": 8,
   "metadata": {},
   "outputs": [
    {
     "name": "stdout",
     "output_type": "stream",
     "text": [
      "CustomerID :value counts >20\n",
      "\n",
      "WasTheLoanApproved :\n",
      " value counts\n",
      " Y    347\n",
      "N    167\n",
      "1      1\n",
      "Name: WasTheLoanApproved, dtype: int64\n",
      "CheckingAccountBalance :\n",
      " value counts\n",
      " none        188\n",
      "debt        149\n",
      "some        144\n",
      "high         34\n",
      "Name: CheckingAccountBalance, dtype: int64\n",
      "DebtsPaid :\n",
      " value counts\n",
      " paid        319\n",
      "delayed     196\n",
      "Name: DebtsPaid, dtype: int64\n",
      "SavingsAccountBalance :\n",
      " value counts\n",
      " some        306\n",
      "none        101\n",
      "medium       53\n",
      "high         33\n",
      "v.high       22\n",
      "Name: SavingsAccountBalance, dtype: int64\n",
      "CurrentOpenLoanApplications :\n",
      " value counts\n",
      " 1    323\n",
      "2    175\n",
      "3     14\n",
      "4      3\n",
      "Name: CurrentOpenLoanApplications, dtype: int64\n",
      "LoanPayoffPeriodInMonths :value counts >20\n",
      "\n",
      "LoanReason :\n",
      " value counts\n",
      " goods       230\n",
      "auto        175\n",
      "busin        57\n",
      "school       34\n",
      "repairs       9\n",
      "other         7\n",
      "  goods       1\n",
      "   auto       1\n",
      "n  busin      1\n",
      "Name: LoanReason, dtype: int64\n",
      "RequestedAmount :value counts >20\n",
      "\n",
      "InterestRate :\n",
      " value counts\n",
      " 4       252\n",
      "2       112\n",
      "3        75\n",
      "1        72\n",
      "0         2\n",
      "   n      1\n",
      "one       1\n",
      "Name: InterestRate, dtype: int64\n",
      "Co-Applicant :\n",
      " value counts\n",
      " none       460\n",
      "guarant     33\n",
      "co-app      22\n",
      "Name: Co-Applicant, dtype: int64\n",
      "YearsAtCurrentEmployer :\n",
      " value counts\n",
      " 4     170\n",
      "10    126\n",
      "7      99\n",
      "1      94\n",
      "0      26\n",
      "Name: YearsAtCurrentEmployer, dtype: int64\n",
      "YearsInCurrentResidence :\n",
      " value counts\n",
      " 4    197\n",
      "2    159\n",
      "3     86\n",
      "1     73\n",
      "Name: YearsInCurrentResidence, dtype: int64\n",
      "Age :value counts >20\n",
      "\n",
      "RentOrOwnHome :\n",
      " value counts\n",
      " owned       366\n",
      "rent         89\n",
      "free         60\n",
      "Name: RentOrOwnHome, dtype: int64\n",
      "TypeOfCurrentEmployment :\n",
      " value counts\n",
      " skilled     334\n",
      "unskill      90\n",
      "self         80\n",
      "none         11\n",
      "Name: TypeOfCurrentEmployment, dtype: int64\n",
      "NumberOfDependantsIncludingSelf :\n",
      " value counts\n",
      " 1    437\n",
      "2     78\n",
      "Name: NumberOfDependantsIncludingSelf, dtype: int64\n"
     ]
    }
   ],
   "source": [
    "fn_value_counts(df,20)"
   ]
  },
  {
   "cell_type": "code",
   "execution_count": null,
   "metadata": {},
   "outputs": [],
   "source": []
  }
 ],
 "metadata": {
  "kernelspec": {
   "display_name": "Python 3",
   "language": "python",
   "name": "python3"
  },
  "language_info": {
   "codemirror_mode": {
    "name": "ipython",
    "version": 3
   },
   "file_extension": ".py",
   "mimetype": "text/x-python",
   "name": "python",
   "nbconvert_exporter": "python",
   "pygments_lexer": "ipython3",
   "version": "3.8.3"
  }
 },
 "nbformat": 4,
 "nbformat_minor": 4
}
