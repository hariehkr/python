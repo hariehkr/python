{
 "cells": [
  {
   "cell_type": "code",
   "execution_count": 1,
   "id": "cf70ffc6",
   "metadata": {},
   "outputs": [],
   "source": [
    "import pandas as pd\n",
    "from icecream import ic\n",
    "import warnings\n",
    "warnings.filterwarnings('ignore')\n",
    "import os\n",
    "import matplotlib.pyplot as plt\n",
    "import seaborn as sns"
   ]
  },
  {
   "cell_type": "code",
   "execution_count": 2,
   "id": "4a623bd9",
   "metadata": {},
   "outputs": [],
   "source": [
    "def fn_value_counts(df, number):\n",
    "    columns=df.columns.tolist()\n",
    "    for col in columns:\n",
    "        if df[col].nunique()<number:\n",
    "            print(col,':\\n value counts\\n', df[col].value_counts())\n",
    "        else:\n",
    "            print(col,':value counts >%i\\n' %number)\n",
    "\n",
    "def fn_dataframe_info(df):\n",
    "    noCols= df.shape[1]\n",
    "    noRows= df.shape[0]\n",
    "    print('There are columns(%i) and rows (%i) \\n columns are as follows: %s' %(noCols,noRows, df.columns))\n",
    "    print('Total number of null values in the data:%i and it percentage %f' %((df.isnull().sum().sum()),(df.isnull().sum().sum()*100)/(noCols*noRows)))\n",
    "    #fn_value_counts(df,20)\n",
    "    "
   ]
  },
  {
   "cell_type": "code",
   "execution_count": 3,
   "id": "1dc22f73",
   "metadata": {},
   "outputs": [
    {
     "data": {
      "text/plain": [
       "['.DS_Store',\n",
       " 'app.tsv',\n",
       " 'borrower.tsv',\n",
       " 'credit.tsv',\n",
       " 'Feature_of_importance.png',\n",
       " 'Readme.txt',\n",
       " 'result.tsv']"
      ]
     },
     "execution_count": 3,
     "metadata": {},
     "output_type": "execute_result"
    }
   ],
   "source": [
    "datapath=\"F:/insofe/Data/rawDataLoan/\"\n",
    "os.listdir(datapath)"
   ]
  },
  {
   "cell_type": "code",
   "execution_count": 23,
   "id": "7b1cfb49",
   "metadata": {},
   "outputs": [
    {
     "data": {
      "text/plain": [
       "['Problem\\n',\n",
       " '----------\\n',\n",
       " '\\n',\n",
       " 'Your task is to gain an understanding of a small loan-application dataset so that we can double-check the work of agents making quick-fire loan determinations by text.\\n',\n",
       " '\\n',\n",
       " '\\n',\n",
       " 'Goals\\n',\n",
       " '-----\\n',\n",
       " '\\n',\n",
       " '1. Data Understanding\\n',\n",
       " '\\n',\n",
       " '    Â·Â\\xa0Convert the data-set into whatever format makes the most sense to you.\\n',\n",
       " '    Â·Â\\xa0Please keep track of any statistics or findings that you think are relevant to solving the problem.\\n',\n",
       " '    Â·Â\\xa0Please provide a thorough analysis of the relationships between the target and the various features and also the relationships between the important   features.\\n',\n",
       " '\\n',\n",
       " '2. Prediction / Classification\\n',\n",
       " '\\n',\n",
       " '    Â·Â\\xa0Based on your understanding, build a quick classifier to determine what the result should be for a new customer\\n',\n",
       " '    Â·Â\\xa0Explain your results and the reason(s) you believe your model is valid\\n',\n",
       " '\\n',\n",
       " 'Please provide your source code and a document (word, powerpoint, pdf or any suitable format) outlining your findings and explanations, along with the data if you significantly transformed it.\\n',\n",
       " '\\n',\n",
       " '\\n',\n",
       " 'Data\\n',\n",
       " '----\\n',\n",
       " '\\n',\n",
       " 'credit: CustomerID CheckingAccountBalance DebtsPaid SavingsAccountBalance CurrentOpenLoanApplications\\n',\n",
       " 'app: CustomerID LoanPayoffPeriodInMonths LoanReason RequestedAmount InterestRate Co-Applicant\\n',\n",
       " 'borrower: CustomerID YearsAtCurrentEmployer YearsInCurrentResidence Age RentOrOwnHome TypeOfCurrentEmployment NumberOfDependantsIncludingSelf\\n',\n",
       " 'result: CustomerID WasTheLoanApproved\\n']"
      ]
     },
     "execution_count": 23,
     "metadata": {},
     "output_type": "execute_result"
    }
   ],
   "source": [
    "readme=open((datapath+'Readme.txt'), 'r')\n",
    "readme.readlines()\n",
    "#readme.close()"
   ]
  },
  {
   "cell_type": "code",
   "execution_count": 5,
   "id": "1c8f5cc6",
   "metadata": {},
   "outputs": [],
   "source": [
    "appCol=\"CustomerID LoanPayoffPeriodInMonths LoanReason RequestedAmount InterestRate Co-Applicant\"\n",
    "creditCol=\"CustomerID CheckingAccountBalance DebtsPaid SavingsAccountBalance CurrentOpenLoanApplications\"\n",
    "borrowerCol=\"CustomerID YearsAtCurrentEmployer YearsInCurrentResidence Age RentOrOwnHome TypeOfCurrentEmployment NumberOfDependantsIncludingSelf\"\n",
    "resultCol= \"CustomerID WasTheLoanApprove\""
   ]
  },
  {
   "cell_type": "code",
   "execution_count": 6,
   "id": "6a4193eb",
   "metadata": {},
   "outputs": [],
   "source": [
    "dfApp=pd.read_csv(datapath+'app.tsv',delimiter='\\t',header=None, names=appCol.split(' '))\n",
    "dfCredit=pd.read_csv(datapath+'credit.tsv',delimiter='\\t',header=None, names=creditCol.split(' '))\n",
    "dfBorrower=pd.read_csv(datapath+'borrower.tsv',delimiter='\\t',header=None, names=borrowerCol.split(' '))\n",
    "dfResults=pd.read_csv(datapath+'result.tsv',delimiter='\\t',header=None, names=resultCol.split(' '))\n"
   ]
  },
  {
   "cell_type": "code",
   "execution_count": 7,
   "id": "fcc5f6f4",
   "metadata": {},
   "outputs": [
    {
     "data": {
      "text/html": [
       "<div>\n",
       "<style scoped>\n",
       "    .dataframe tbody tr th:only-of-type {\n",
       "        vertical-align: middle;\n",
       "    }\n",
       "\n",
       "    .dataframe tbody tr th {\n",
       "        vertical-align: top;\n",
       "    }\n",
       "\n",
       "    .dataframe thead th {\n",
       "        text-align: right;\n",
       "    }\n",
       "</style>\n",
       "<table border=\"1\" class=\"dataframe\">\n",
       "  <thead>\n",
       "    <tr style=\"text-align: right;\">\n",
       "      <th></th>\n",
       "      <th>CustomerID</th>\n",
       "      <th>LoanPayoffPeriodInMonths</th>\n",
       "      <th>LoanReason</th>\n",
       "      <th>RequestedAmount</th>\n",
       "      <th>InterestRate</th>\n",
       "      <th>Co-Applicant</th>\n",
       "    </tr>\n",
       "  </thead>\n",
       "  <tbody>\n",
       "    <tr>\n",
       "      <th>741</th>\n",
       "      <td>36</td>\n",
       "      <td>goods</td>\n",
       "      <td>9566</td>\n",
       "      <td></td>\n",
       "      <td>2</td>\n",
       "      <td>none</td>\n",
       "    </tr>\n",
       "    <tr>\n",
       "      <th>439</th>\n",
       "      <td>12</td>\n",
       "      <td>goods</td>\n",
       "      <td>2279</td>\n",
       "      <td></td>\n",
       "      <td>4</td>\n",
       "      <td>none</td>\n",
       "    </tr>\n",
       "  </tbody>\n",
       "</table>\n",
       "</div>"
      ],
      "text/plain": [
       "    CustomerID LoanPayoffPeriodInMonths  LoanReason RequestedAmount  \\\n",
       "741         36                 goods           9566                   \n",
       "439         12                 goods           2279                   \n",
       "\n",
       "    InterestRate Co-Applicant  \n",
       "741            2         none  \n",
       "439            4         none  "
      ]
     },
     "execution_count": 7,
     "metadata": {},
     "output_type": "execute_result"
    }
   ],
   "source": [
    "dfApp.head(2)"
   ]
  },
  {
   "cell_type": "code",
   "execution_count": 8,
   "id": "31eeb081",
   "metadata": {},
   "outputs": [
    {
     "data": {
      "text/html": [
       "<div>\n",
       "<style scoped>\n",
       "    .dataframe tbody tr th:only-of-type {\n",
       "        vertical-align: middle;\n",
       "    }\n",
       "\n",
       "    .dataframe tbody tr th {\n",
       "        vertical-align: top;\n",
       "    }\n",
       "\n",
       "    .dataframe thead th {\n",
       "        text-align: right;\n",
       "    }\n",
       "</style>\n",
       "<table border=\"1\" class=\"dataframe\">\n",
       "  <thead>\n",
       "    <tr style=\"text-align: right;\">\n",
       "      <th></th>\n",
       "      <th>CustomerID</th>\n",
       "      <th>CheckingAccountBalance</th>\n",
       "      <th>DebtsPaid</th>\n",
       "      <th>SavingsAccountBalance</th>\n",
       "      <th>CurrentOpenLoanApplications</th>\n",
       "    </tr>\n",
       "  </thead>\n",
       "  <tbody>\n",
       "    <tr>\n",
       "      <th>0</th>\n",
       "      <td>374</td>\n",
       "      <td>debt</td>\n",
       "      <td>paid</td>\n",
       "      <td>some</td>\n",
       "      <td>2</td>\n",
       "    </tr>\n",
       "    <tr>\n",
       "      <th>1</th>\n",
       "      <td>346</td>\n",
       "      <td>some</td>\n",
       "      <td>delayed</td>\n",
       "      <td>none</td>\n",
       "      <td>1</td>\n",
       "    </tr>\n",
       "  </tbody>\n",
       "</table>\n",
       "</div>"
      ],
      "text/plain": [
       "   CustomerID CheckingAccountBalance DebtsPaid SavingsAccountBalance  \\\n",
       "0         374               debt      paid                  some       \n",
       "1         346               some      delayed               none       \n",
       "\n",
       "   CurrentOpenLoanApplications  \n",
       "0                            2  \n",
       "1                            1  "
      ]
     },
     "execution_count": 8,
     "metadata": {},
     "output_type": "execute_result"
    }
   ],
   "source": [
    "dfCredit.head(2)"
   ]
  },
  {
   "cell_type": "code",
   "execution_count": 9,
   "id": "83dcb70f",
   "metadata": {},
   "outputs": [
    {
     "data": {
      "text/html": [
       "<div>\n",
       "<style scoped>\n",
       "    .dataframe tbody tr th:only-of-type {\n",
       "        vertical-align: middle;\n",
       "    }\n",
       "\n",
       "    .dataframe tbody tr th {\n",
       "        vertical-align: top;\n",
       "    }\n",
       "\n",
       "    .dataframe thead th {\n",
       "        text-align: right;\n",
       "    }\n",
       "</style>\n",
       "<table border=\"1\" class=\"dataframe\">\n",
       "  <thead>\n",
       "    <tr style=\"text-align: right;\">\n",
       "      <th></th>\n",
       "      <th>CustomerID</th>\n",
       "      <th>YearsAtCurrentEmployer</th>\n",
       "      <th>YearsInCurrentResidence</th>\n",
       "      <th>Age</th>\n",
       "      <th>RentOrOwnHome</th>\n",
       "      <th>TypeOfCurrentEmployment</th>\n",
       "      <th>NumberOfDependantsIncludingSelf</th>\n",
       "    </tr>\n",
       "  </thead>\n",
       "  <tbody>\n",
       "    <tr>\n",
       "      <th>0</th>\n",
       "      <td>765</td>\n",
       "      <td>1</td>\n",
       "      <td>1</td>\n",
       "      <td>46</td>\n",
       "      <td>rent</td>\n",
       "      <td>skilled</td>\n",
       "      <td>1</td>\n",
       "    </tr>\n",
       "    <tr>\n",
       "      <th>1</th>\n",
       "      <td>668</td>\n",
       "      <td>4</td>\n",
       "      <td>4</td>\n",
       "      <td>49</td>\n",
       "      <td>owned</td>\n",
       "      <td>skilled</td>\n",
       "      <td>1</td>\n",
       "    </tr>\n",
       "  </tbody>\n",
       "</table>\n",
       "</div>"
      ],
      "text/plain": [
       "   CustomerID  YearsAtCurrentEmployer  YearsInCurrentResidence  Age  \\\n",
       "0         765                       1                        1   46   \n",
       "1         668                       4                        4   49   \n",
       "\n",
       "  RentOrOwnHome TypeOfCurrentEmployment  NumberOfDependantsIncludingSelf  \n",
       "0      rent                    skilled                                 1  \n",
       "1      owned                   skilled                                 1  "
      ]
     },
     "execution_count": 9,
     "metadata": {},
     "output_type": "execute_result"
    }
   ],
   "source": [
    "dfBorrower.head(2)"
   ]
  },
  {
   "cell_type": "code",
   "execution_count": 10,
   "id": "84eb227c",
   "metadata": {},
   "outputs": [
    {
     "data": {
      "text/html": [
       "<div>\n",
       "<style scoped>\n",
       "    .dataframe tbody tr th:only-of-type {\n",
       "        vertical-align: middle;\n",
       "    }\n",
       "\n",
       "    .dataframe tbody tr th {\n",
       "        vertical-align: top;\n",
       "    }\n",
       "\n",
       "    .dataframe thead th {\n",
       "        text-align: right;\n",
       "    }\n",
       "</style>\n",
       "<table border=\"1\" class=\"dataframe\">\n",
       "  <thead>\n",
       "    <tr style=\"text-align: right;\">\n",
       "      <th></th>\n",
       "      <th>CustomerID</th>\n",
       "      <th>WasTheLoanApprove</th>\n",
       "    </tr>\n",
       "  </thead>\n",
       "  <tbody>\n",
       "    <tr>\n",
       "      <th>0</th>\n",
       "      <td>1</td>\n",
       "      <td>Y</td>\n",
       "    </tr>\n",
       "    <tr>\n",
       "      <th>1</th>\n",
       "      <td>2</td>\n",
       "      <td>Y</td>\n",
       "    </tr>\n",
       "  </tbody>\n",
       "</table>\n",
       "</div>"
      ],
      "text/plain": [
       "   CustomerID WasTheLoanApprove\n",
       "0           1                 Y\n",
       "1           2                 Y"
      ]
     },
     "execution_count": 10,
     "metadata": {},
     "output_type": "execute_result"
    }
   ],
   "source": [
    "dfResults.head(2)"
   ]
  },
  {
   "cell_type": "code",
   "execution_count": 11,
   "id": "fb6daf98",
   "metadata": {},
   "outputs": [
    {
     "name": "stdout",
     "output_type": "stream",
     "text": [
      "CustomerID :\n",
      " value counts\n",
      " 24      138\n",
      "12      137\n",
      "18       79\n",
      "36       62\n",
      "6        49\n",
      "15       49\n",
      "9        38\n",
      "48       37\n",
      "30       29\n",
      "10       23\n",
      "21       18\n",
      "42       10\n",
      "60       10\n",
      "27        9\n",
      "20        6\n",
      "11        6\n",
      "8         6\n",
      "39        5\n",
      "7         4\n",
      "14        4\n",
      "45        4\n",
      "4         3\n",
      "13        3\n",
      "28        3\n",
      "33        3\n",
      "none      2\n",
      "54        2\n",
      "22        1\n",
      "72        1\n",
      "47        1\n",
      "5         1\n",
      "26        1\n",
      "good      1\n",
      "busi      1\n",
      "40        1\n",
      "16        1\n",
      "Name: CustomerID, dtype: int64\n",
      "LoanPayoffPeriodInMonths :\n",
      " value counts\n",
      " goods       348\n",
      "auto        248\n",
      "busin        77\n",
      "school       47\n",
      "repairs      14\n",
      "other        10\n",
      "s  goods      1\n",
      "  goods       1\n",
      "n  busin      1\n",
      "   auto       1\n",
      "Name: LoanPayoffPeriodInMonths, dtype: int64\n",
      "LoanReason :value counts >100\n",
      "\n",
      "RequestedAmount :\n",
      " value counts\n",
      "         624\n",
      "4        71\n",
      "3        10\n",
      "1         9\n",
      "2         8\n",
      "7         5\n",
      "6         4\n",
      "9         4\n",
      "8         3\n",
      "5         3\n",
      "0         2\n",
      "591       1\n",
      "146       1\n",
      "   n      1\n",
      "577       1\n",
      "36        1\n",
      "Name: RequestedAmount, dtype: int64\n",
      "InterestRate :\n",
      " value counts\n",
      " 4       292\n",
      "2       163\n",
      "3       104\n",
      "1        97\n",
      "none     79\n",
      "guar      6\n",
      "   n      4\n",
      "co-a      2\n",
      "one       1\n",
      "Name: InterestRate, dtype: int64\n",
      "Co-Applicant :\n",
      " value counts\n",
      " none          586\n",
      "guarant        34\n",
      "co-app         32\n",
      "ant             6\n",
      "one             4\n",
      "pp              2\n",
      "   none         2\n",
      "   guarant      1\n",
      "  none          1\n",
      "Name: Co-Applicant, dtype: int64\n"
     ]
    }
   ],
   "source": [
    "fn_value_counts(dfApp,100)"
   ]
  },
  {
   "cell_type": "code",
   "execution_count": 12,
   "id": "a7e44cf2",
   "metadata": {},
   "outputs": [],
   "source": [
    "appColNew=\"CustomerID LoanPayoffPeriodInMonths LoanReason RequestedAmount UnknownCol InterestRate Co-Applicant\"\n",
    "dfApp=pd.read_csv(datapath+'app.tsv',delimiter='\\t',header=None, names=appColNew.split(' '))"
   ]
  },
  {
   "cell_type": "code",
   "execution_count": 13,
   "id": "09a2c141",
   "metadata": {},
   "outputs": [
    {
     "data": {
      "text/html": [
       "<div>\n",
       "<style scoped>\n",
       "    .dataframe tbody tr th:only-of-type {\n",
       "        vertical-align: middle;\n",
       "    }\n",
       "\n",
       "    .dataframe tbody tr th {\n",
       "        vertical-align: top;\n",
       "    }\n",
       "\n",
       "    .dataframe thead th {\n",
       "        text-align: right;\n",
       "    }\n",
       "</style>\n",
       "<table border=\"1\" class=\"dataframe\">\n",
       "  <thead>\n",
       "    <tr style=\"text-align: right;\">\n",
       "      <th></th>\n",
       "      <th>CustomerID</th>\n",
       "      <th>LoanPayoffPeriodInMonths</th>\n",
       "      <th>LoanReason</th>\n",
       "      <th>RequestedAmount</th>\n",
       "      <th>UnknownCol</th>\n",
       "      <th>InterestRate</th>\n",
       "      <th>Co-Applicant</th>\n",
       "    </tr>\n",
       "  </thead>\n",
       "  <tbody>\n",
       "    <tr>\n",
       "      <th>0</th>\n",
       "      <td>741</td>\n",
       "      <td>36</td>\n",
       "      <td>goods</td>\n",
       "      <td>9566</td>\n",
       "      <td></td>\n",
       "      <td>2</td>\n",
       "      <td>none</td>\n",
       "    </tr>\n",
       "    <tr>\n",
       "      <th>1</th>\n",
       "      <td>439</td>\n",
       "      <td>12</td>\n",
       "      <td>goods</td>\n",
       "      <td>2279</td>\n",
       "      <td></td>\n",
       "      <td>4</td>\n",
       "      <td>none</td>\n",
       "    </tr>\n",
       "  </tbody>\n",
       "</table>\n",
       "</div>"
      ],
      "text/plain": [
       "   CustomerID LoanPayoffPeriodInMonths LoanReason  RequestedAmount UnknownCol  \\\n",
       "0         741                       36   goods                9566              \n",
       "1         439                       12   goods                2279              \n",
       "\n",
       "  InterestRate Co-Applicant  \n",
       "0            2         none  \n",
       "1            4         none  "
      ]
     },
     "execution_count": 13,
     "metadata": {},
     "output_type": "execute_result"
    }
   ],
   "source": [
    "dfApp.head(2)"
   ]
  },
  {
   "cell_type": "code",
   "execution_count": 14,
   "id": "3dadda40",
   "metadata": {},
   "outputs": [
    {
     "name": "stdout",
     "output_type": "stream",
     "text": [
      "CustomerID :value counts >30\n",
      "\n",
      "LoanPayoffPeriodInMonths :value counts >30\n",
      "\n",
      "LoanReason :\n",
      " value counts\n",
      " goods       348\n",
      "auto        248\n",
      "busin        77\n",
      "school       47\n",
      "repairs      14\n",
      "other        10\n",
      "s  goods      1\n",
      "  goods       1\n",
      "n  busin      1\n",
      "   auto       1\n",
      "Name: LoanReason, dtype: int64\n",
      "RequestedAmount :value counts >30\n",
      "\n",
      "UnknownCol :\n",
      " value counts\n",
      "         624\n",
      "4        71\n",
      "3        10\n",
      "1         9\n",
      "2         8\n",
      "7         5\n",
      "6         4\n",
      "9         4\n",
      "8         3\n",
      "5         3\n",
      "0         2\n",
      "591       1\n",
      "146       1\n",
      "   n      1\n",
      "577       1\n",
      "36        1\n",
      "Name: UnknownCol, dtype: int64\n",
      "InterestRate :\n",
      " value counts\n",
      " 4       292\n",
      "2       163\n",
      "3       104\n",
      "1        97\n",
      "none     79\n",
      "guar      6\n",
      "   n      4\n",
      "co-a      2\n",
      "one       1\n",
      "Name: InterestRate, dtype: int64\n",
      "Co-Applicant :\n",
      " value counts\n",
      " none          586\n",
      "guarant        34\n",
      "co-app         32\n",
      "ant             6\n",
      "one             4\n",
      "pp              2\n",
      "   none         2\n",
      "   guarant      1\n",
      "  none          1\n",
      "Name: Co-Applicant, dtype: int64\n"
     ]
    }
   ],
   "source": [
    "fn_value_counts(dfApp, 30)"
   ]
  },
  {
   "cell_type": "code",
   "execution_count": 15,
   "id": "426c3ec1",
   "metadata": {},
   "outputs": [
    {
     "name": "stdout",
     "output_type": "stream",
     "text": [
      "CustomerID :value counts >10\n",
      "\n",
      "WasTheLoanApprove :\n",
      " value counts\n",
      " Y    516\n",
      "N    233\n",
      "1      1\n",
      "Name: WasTheLoanApprove, dtype: int64\n"
     ]
    }
   ],
   "source": [
    "fn_value_counts(dfResults,10)"
   ]
  },
  {
   "cell_type": "code",
   "execution_count": 16,
   "id": "8df613da",
   "metadata": {},
   "outputs": [
    {
     "name": "stdout",
     "output_type": "stream",
     "text": [
      "There are columns(5) and rows (749) \n",
      " columns are as follows: Index(['CustomerID', 'CheckingAccountBalance', 'DebtsPaid',\n",
      "       'SavingsAccountBalance', 'CurrentOpenLoanApplications'],\n",
      "      dtype='object')\n",
      "Total number of null values in the data:0 and it percentage 0.000000\n"
     ]
    }
   ],
   "source": [
    "fn_dataframe_info(dfCredit)"
   ]
  },
  {
   "cell_type": "code",
   "execution_count": 17,
   "id": "c79f6fcb",
   "metadata": {},
   "outputs": [],
   "source": [
    "dfRC = dfResults.merge(dfCredit, left_on='CustomerID', right_on='CustomerID')\n",
    "dfRCA= dfRC.merge(dfApp, left_on='CustomerID', right_on='CustomerID')\n",
    "df= dfRCA.merge(dfBorrower, left_on='CustomerID', right_on='CustomerID')\n",
    "del dfRC, dfRCA, dfApp, dfBorrower, dfCredit, dfResults"
   ]
  },
  {
   "cell_type": "code",
   "execution_count": 18,
   "id": "716955d5",
   "metadata": {},
   "outputs": [
    {
     "name": "stdout",
     "output_type": "stream",
     "text": [
      "There are columns(18) and rows (515) \n",
      " columns are as follows: Index(['CustomerID', 'WasTheLoanApprove', 'CheckingAccountBalance',\n",
      "       'DebtsPaid', 'SavingsAccountBalance', 'CurrentOpenLoanApplications',\n",
      "       'LoanPayoffPeriodInMonths', 'LoanReason', 'RequestedAmount',\n",
      "       'UnknownCol', 'InterestRate', 'Co-Applicant', 'YearsAtCurrentEmployer',\n",
      "       'YearsInCurrentResidence', 'Age', 'RentOrOwnHome',\n",
      "       'TypeOfCurrentEmployment', 'NumberOfDependantsIncludingSelf'],\n",
      "      dtype='object')\n",
      "Total number of null values in the data:54 and it percentage 0.582524\n"
     ]
    }
   ],
   "source": [
    "fn_dataframe_info(df)"
   ]
  },
  {
   "cell_type": "code",
   "execution_count": 19,
   "id": "01aacd89",
   "metadata": {},
   "outputs": [],
   "source": [
    "def fn_catcolumns_endSpaces_remove(df):    \n",
    "    catCols= (df.select_dtypes(['category','object'])).columns\n",
    "    print(catCols)\n",
    "    for col in catCols:\n",
    "        df[col]= df[col].str.split(' ')\n",
    "        df[col]= df[col].str.rsplit(' ')\n",
    "    return df\n",
    "        "
   ]
  },
  {
   "cell_type": "code",
   "execution_count": 20,
   "id": "a12ee7b9",
   "metadata": {},
   "outputs": [
    {
     "name": "stdout",
     "output_type": "stream",
     "text": [
      "Index(['WasTheLoanApprove', 'CheckingAccountBalance', 'DebtsPaid',\n",
      "       'SavingsAccountBalance', 'LoanPayoffPeriodInMonths', 'LoanReason',\n",
      "       'UnknownCol', 'InterestRate', 'Co-Applicant', 'RentOrOwnHome',\n",
      "       'TypeOfCurrentEmployment'],\n",
      "      dtype='object')\n",
      "There are columns(18) and rows (515) \n",
      " columns are as follows: Index(['CustomerID', 'WasTheLoanApprove', 'CheckingAccountBalance',\n",
      "       'DebtsPaid', 'SavingsAccountBalance', 'CurrentOpenLoanApplications',\n",
      "       'LoanPayoffPeriodInMonths', 'LoanReason', 'RequestedAmount',\n",
      "       'UnknownCol', 'InterestRate', 'Co-Applicant', 'YearsAtCurrentEmployer',\n",
      "       'YearsInCurrentResidence', 'Age', 'RentOrOwnHome',\n",
      "       'TypeOfCurrentEmployment', 'NumberOfDependantsIncludingSelf'],\n",
      "      dtype='object')\n",
      "Total number of null values in the data:5665 and it percentage 61.111111\n"
     ]
    }
   ],
   "source": [
    "df1=fn_catcolumns_endSpaces_remove(df)\n",
    "fn_dataframe_info(df1)"
   ]
  },
  {
   "cell_type": "code",
   "execution_count": 37,
   "id": "bba1ec74",
   "metadata": {},
   "outputs": [],
   "source": [
    "datapath=\"F:\\ExcelData\"\n",
    "filename='mytext.txt'\n",
    "filePath= datapath + u'\\\\' + filename"
   ]
  },
  {
   "cell_type": "code",
   "execution_count": 38,
   "id": "db988d0e",
   "metadata": {},
   "outputs": [],
   "source": [
    "txtfile=open(filePath,'r')"
   ]
  },
  {
   "cell_type": "code",
   "execution_count": 40,
   "id": "ab1a8a31",
   "metadata": {},
   "outputs": [
    {
     "data": {
      "text/plain": [
       "['step1:\\n',\n",
       " 'read all data frames with given col names ( use given column names form Readme.txt)\\n',\n",
       " 'check columns matching with values\\n',\n",
       " '\\n',\n",
       " 'step2:\\n',\n",
       " ' check valus counts with written functions\\n',\n",
       " '\\ta) write fn with a given number of unique count to print\\n',\n",
       " 'step3:\\n',\n",
       " '  clean the data remove duplicate names\\n',\n",
       " '\\n',\n",
       " 'step4:\\n',\n",
       " ' a) number of null valus col/row/total wise\\n',\n",
       " '\\n',\n",
       " 'step5:\\n',\n",
       " 'identiy possible imputuaions ']"
      ]
     },
     "execution_count": 40,
     "metadata": {},
     "output_type": "execute_result"
    }
   ],
   "source": [
    "txtfile.readlines()"
   ]
  },
  {
   "cell_type": "code",
   "execution_count": 32,
   "id": "50421b75",
   "metadata": {},
   "outputs": [
    {
     "name": "stdout",
     "output_type": "stream",
     "text": [
      "CustomerID :value counts >20\n",
      "\n",
      "WasTheLoanApprove :\n",
      " value counts\n",
      " Series([], Name: WasTheLoanApprove, dtype: int64)\n",
      "CheckingAccountBalance :\n",
      " value counts\n",
      " Series([], Name: CheckingAccountBalance, dtype: int64)\n",
      "DebtsPaid :\n",
      " value counts\n",
      " Series([], Name: DebtsPaid, dtype: int64)\n",
      "SavingsAccountBalance :\n",
      " value counts\n",
      " Series([], Name: SavingsAccountBalance, dtype: int64)\n",
      "CurrentOpenLoanApplications :\n",
      " value counts\n",
      " 1    323\n",
      "2    175\n",
      "3     14\n",
      "4      3\n",
      "Name: CurrentOpenLoanApplications, dtype: int64\n",
      "LoanPayoffPeriodInMonths :\n",
      " value counts\n",
      " Series([], Name: LoanPayoffPeriodInMonths, dtype: int64)\n",
      "LoanReason :\n",
      " value counts\n",
      " Series([], Name: LoanReason, dtype: int64)\n",
      "RequestedAmount :value counts >20\n",
      "\n",
      "UnknownCol :\n",
      " value counts\n",
      " Series([], Name: UnknownCol, dtype: int64)\n",
      "InterestRate :\n",
      " value counts\n",
      " Series([], Name: InterestRate, dtype: int64)\n",
      "Co-Applicant :\n",
      " value counts\n",
      " Series([], Name: Co-Applicant, dtype: int64)\n",
      "YearsAtCurrentEmployer :\n",
      " value counts\n",
      " 4     170\n",
      "10    126\n",
      "7      99\n",
      "1      94\n",
      "0      26\n",
      "Name: YearsAtCurrentEmployer, dtype: int64\n",
      "YearsInCurrentResidence :\n",
      " value counts\n",
      " 4    197\n",
      "2    159\n",
      "3     86\n",
      "1     73\n",
      "Name: YearsInCurrentResidence, dtype: int64\n",
      "Age :value counts >20\n",
      "\n",
      "RentOrOwnHome :\n",
      " value counts\n",
      " Series([], Name: RentOrOwnHome, dtype: int64)\n",
      "TypeOfCurrentEmployment :\n",
      " value counts\n",
      " Series([], Name: TypeOfCurrentEmployment, dtype: int64)\n",
      "NumberOfDependantsIncludingSelf :\n",
      " value counts\n",
      " 1    437\n",
      "2     78\n",
      "Name: NumberOfDependantsIncludingSelf, dtype: int64\n"
     ]
    }
   ],
   "source": [
    "fn_value_counts(df, 20)"
   ]
  },
  {
   "cell_type": "code",
   "execution_count": null,
   "id": "2617019f",
   "metadata": {},
   "outputs": [],
   "source": []
  }
 ],
 "metadata": {
  "kernelspec": {
   "display_name": "Python 3",
   "language": "python",
   "name": "python3"
  },
  "language_info": {
   "codemirror_mode": {
    "name": "ipython",
    "version": 3
   },
   "file_extension": ".py",
   "mimetype": "text/x-python",
   "name": "python",
   "nbconvert_exporter": "python",
   "pygments_lexer": "ipython3",
   "version": "3.8.8"
  },
  "toc": {
   "base_numbering": 1,
   "nav_menu": {},
   "number_sections": true,
   "sideBar": true,
   "skip_h1_title": false,
   "title_cell": "Table of Contents",
   "title_sidebar": "Contents",
   "toc_cell": false,
   "toc_position": {},
   "toc_section_display": true,
   "toc_window_display": false
  }
 },
 "nbformat": 4,
 "nbformat_minor": 5
}
