{
 "cells": [
  {
   "cell_type": "markdown",
   "metadata": {},
   "source": [
    "#### https://www.youtube.com/watch?v=phRshQSU-xA&ab_channel=edureka%21\n",
    "\n",
    "What is Array? <br>\n",
    "is pyhton list same as array<br>\n",
    "how to create arry in Python?<br>\n",
    "Accessing array elements<br>\n",
    "\n",
    "Basic Array operations\n",
    " * finding length of array\n",
    " * Addtion\n",
    " * removal\n",
    " * Concentration\n",
    " * Slicing\n",
    " * Looping\n"
   ]
  },
  {
   "cell_type": "markdown",
   "metadata": {},
   "source": [
    "What is Array? <br>\n",
    "It is a **data structure** which can hold more than \n",
    "one value at a time. It also defined defined as, Array is collection or ordered series of elements of same type.\n",
    "Array are mutable "
   ]
  },
  {
   "cell_type": "markdown",
   "metadata": {},
   "source": [
    "is pyhton list same as array? <br>\n",
    "\n",
    "Pyhton arrays and list have the same way of storing data. But, Somekind of operations perfomed on them are different.  Some opetions like looping, slicing are similar for both and multification, devison are different results each other because list can hold more than one datatype. \n",
    "\n",
    "Array take only a single data type elements but lists can have any type of\n",
    "data. Some\n"
   ]
  },
  {
   "cell_type": "markdown",
   "metadata": {},
   "source": [
    "how to create arry in Python? <br>\n",
    "It can be done using **array** module in Python.\n",
    "\n"
   ]
  },
  {
   "cell_type": "code",
   "execution_count": 10,
   "metadata": {},
   "outputs": [],
   "source": [
    "import array"
   ]
  },
  {
   "cell_type": "code",
   "execution_count": 11,
   "metadata": {},
   "outputs": [],
   "source": [
    "a = array.array('i', [1, 2, 3, 4, 5, 6, 7, 8])"
   ]
  },
  {
   "cell_type": "markdown",
   "metadata": {},
   "source": [
    "here,\n",
    "* a: variable name\n",
    "* array.array: name of the module, constructer \n",
    "* i : integer (type of data elements)\n"
   ]
  },
  {
   "cell_type": "markdown",
   "metadata": {},
   "source": [
    "## Accessing array elements<br>\n",
    "* Acess elements using index values.\n",
    "* Positive Index: indexing starts at `0` and end at one number less than the length of array.\n",
    "* Negative Index:negative indexing starts form the reverse order `-1` of traversal (from right to left).\n"
   ]
  },
  {
   "cell_type": "code",
   "execution_count": 6,
   "metadata": {},
   "outputs": [
    {
     "data": {
      "text/plain": [
       "3"
      ]
     },
     "execution_count": 6,
     "metadata": {},
     "output_type": "execute_result"
    }
   ],
   "source": [
    "a[2]\n",
    "# Answer 3"
   ]
  },
  {
   "cell_type": "code",
   "execution_count": 9,
   "metadata": {},
   "outputs": [
    {
     "data": {
      "text/plain": [
       "3"
      ]
     },
     "execution_count": 9,
     "metadata": {},
     "output_type": "execute_result"
    }
   ],
   "source": [
    "a[-6]\n",
    "# Answer 3"
   ]
  },
  {
   "cell_type": "markdown",
   "metadata": {},
   "source": [
    "Basic Array operations\n",
    " * finding length of array\n",
    "     * len()\n",
    " * Addtion\n",
    "      * **append()** : Used when you want to add a single element at the end of an array\n",
    "      * **extend()** : Used when you want to add a more than one element at the end of an array\n",
    "      * **insert()** : Used when you want to add an element at a specific position in an array\n",
    " * removal\n",
    "      * **pop()** :  Used when you want to remove an element and return it.\n",
    "      * **remove()** : Used when you want to remove an element specific value without return it.\n",
    " * Concentration \n",
    "     * additon done with `+` symbol\n",
    " * Slicing\n",
    " * Looping"
   ]
  },
  {
   "cell_type": "code",
   "execution_count": null,
   "metadata": {},
   "outputs": [],
   "source": []
  }
 ],
 "metadata": {
  "kernelspec": {
   "display_name": "Python 3",
   "language": "python",
   "name": "python3"
  },
  "language_info": {
   "codemirror_mode": {
    "name": "ipython",
    "version": 3
   },
   "file_extension": ".py",
   "mimetype": "text/x-python",
   "name": "python",
   "nbconvert_exporter": "python",
   "pygments_lexer": "ipython3",
   "version": "3.8.3"
  }
 },
 "nbformat": 4,
 "nbformat_minor": 4
}
